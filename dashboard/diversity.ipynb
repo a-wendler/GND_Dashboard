{
 "cells": [
  {
   "cell_type": "code",
   "execution_count": 1,
   "metadata": {},
   "outputs": [],
   "source": [
    "import pandas as pd"
   ]
  },
  {
   "cell_type": "code",
   "execution_count": 2,
   "metadata": {},
   "outputs": [
    {
     "data": {
      "text/plain": [
       "m                             1757592\n",
       "f                              677660\n",
       "f m                                73\n",
       "m/f                                36\n",
       "f oder m                           28\n",
       "m f                                19\n",
       "mf                                 13\n",
       "f/m                                12\n",
       "m,                                 10\n",
       "m / f                               7\n",
       "fm                                  6\n",
       "fr                                  5\n",
       "m  f                                5\n",
       "m.                                  4\n",
       "mk                                  3\n",
       "mon                                 2\n",
       "mm                                  2\n",
       "mff                                 2\n",
       "m500                                2\n",
       "m!041884612!                        1\n",
       "ff                                  1\n",
       "m/                                  1\n",
       "f3                                  1\n",
       "m^                                  1\n",
       "m rus                               1\n",
       "f (Geschlecht)                      1\n",
       "mt                                  1\n",
       "msc Wefers, Walter                  1\n",
       "fem                                 1\n",
       "fk                                  1\n",
       "f f m                               1\n",
       "m oder f                            1\n",
       "mZ                                  1\n",
       "ma                                  1\n",
       "mf f                                1\n",
       "m m                                 1\n",
       "frec                                1\n",
       "mi                                  1\n",
       "f Willwock, P.                      1\n",
       "m, f                                1\n",
       "m f perf                            1\n",
       "m100                                1\n",
       "male                                1\n",
       "fe                                  1\n",
       "m377 eng                            1\n",
       "m-                                  1\n",
       "m .                                 1\n",
       "m400 Grammling, Andreas S.          1\n",
       "mj                                  1\n",
       "f,                                  1\n",
       "f e                                 1\n",
       "f400                                1\n",
       "m eng                               1\n",
       "mn                                  1\n",
       "m3                                  1\n",
       "fre                                 1\n",
       "m400                                1\n",
       "mung                                1\n",
       "m043 XA-FR                          1\n",
       "Name: gender, dtype: int64"
      ]
     },
     "execution_count": 2,
     "metadata": {},
     "output_type": "execute_result"
    }
   ],
   "source": [
    "df = pd.read_csv('/media/dbsm-user/HD-WD-10021/pica/tp_gender.csv')\n"
   ]
  },
  {
   "cell_type": "code",
   "execution_count": 3,
   "metadata": {},
   "outputs": [
    {
     "name": "stdout",
     "output_type": "stream",
     "text": [
      "<class 'pandas.core.frame.DataFrame'>\n",
      "RangeIndex: 5593991 entries, 0 to 5593990\n",
      "Data columns (total 2 columns):\n",
      " #   Column  Dtype \n",
      "---  ------  ----- \n",
      " 0   idn     object\n",
      " 1   gender  object\n",
      "dtypes: object(2)\n",
      "memory usage: 85.4+ MB\n"
     ]
    }
   ],
   "source": [
    "df.info()"
   ]
  },
  {
   "cell_type": "code",
   "execution_count": null,
   "metadata": {},
   "outputs": [],
   "source": []
  }
 ],
 "metadata": {
  "interpreter": {
   "hash": "500e9f379dfc33ce5a29440abeb9db4daee6d18ed4745caa87d0342feb958303"
  },
  "kernelspec": {
   "display_name": "Python 3.8.5 64-bit ('base': conda)",
   "name": "python3"
  },
  "language_info": {
   "codemirror_mode": {
    "name": "ipython",
    "version": 3
   },
   "file_extension": ".py",
   "mimetype": "text/x-python",
   "name": "python",
   "nbconvert_exporter": "python",
   "pygments_lexer": "ipython3",
   "version": "3.8.5"
  },
  "orig_nbformat": 4
 },
 "nbformat": 4,
 "nbformat_minor": 2
}